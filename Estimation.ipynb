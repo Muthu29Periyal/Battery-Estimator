{
 "cells": [
  {
   "cell_type": "markdown",
   "id": "e77fb106",
   "metadata": {},
   "source": [
    "# RUL and SOH Estimator\n",
    "\n",
    "## Data Description:\n",
    "\n",
    "    A set of four Li-ion batteries (# 45 - 48) were run through 3 different operational profiles (charge, discharge and impedance) at an ambient temperature of 4 deg C. \n",
    "    Charging was carried out in a constant current (CC) mode at 1.5A until the battery voltage reached 4.2V and then continued in a constant voltage (CV) mode until the charge current dropped to 20mA. \n",
    "    \"Fixed load current level of 1A\" was used and the discharge runs were stopped at 2V, 2.2V, 2.5V and 2.7V for batteries 45, 46, 47 and 48 respectively.\n",
    "    Impedance measurement was carried out through an electrochemical impedance spectroscopy (EIS) frequency sweep from 0.1Hz to 5kHz. The experiments were carried out until the capacity had reduced to 1.4Ahr (30% fade). \n",
    "    Note that there are several discharge runs where the capacity was very low. Reasons for this have not been fully analyzed.\n",
    "\n",
    "### Files:\n",
    "    B0047.mat\tData for Battery #47\n",
    "\n",
    "## Data Structure:\n",
    "    cycle-\ttop level structure array containing the charge, discharge and impedance operations\n",
    "\ttype: \toperation  type, can be charge, discharge or impedance\n",
    "\tambient_temperature:\tambient temperature (degree C)\n",
    "\ttime: \tthe date and time of the start of the cycle, in MATLAB  date vector format\n",
    "\tdata:\tdata structure containing the measurements\n",
    "#### for charge the fields are:\n",
    "\t\tVoltage_measured: \tBattery terminal voltage (Volts)\n",
    "\t\tCurrent_measured:\tBattery output current (Amps)\n",
    "\t\tTemperature_measured: \tBattery temperature (degree C)\n",
    "\t\tCurrent_charge:\t\tCurrent measured at charger (Amps)\n",
    "\t\tVoltage_charge:\t\tVoltage measured at charger (Volts)\n",
    "\t\tTime:\t\t\tTime vector for the cycle (secs)\n",
    "#### for discharge the fields are:\n",
    "\t\tVoltage_measured: \tBattery terminal voltage (Volts)\n",
    "\t\tCurrent_measured:\tBattery output current (Amps)\n",
    "\t\tTemperature_measured: \tBattery temperature (degree C)\n",
    "\t\tCurrent_charge:\t\tCurrent measured at load (Amps)\n",
    "\t\tVoltage_charge:\t\tVoltage measured at load (Volts)\n",
    "\t\tTime:\t\t\tTime vector for the cycle (secs)\n",
    "\t\tCapacity:\t\tBattery capacity (Ahr) for discharge till 2.7V\n",
    "#### for impedance the fields are:\n",
    "\t\tSense_current:\t\tCurrent in sense branch (Amps)\n",
    "\t\tBattery_current:\tCurrent in battery branch (Amps)\n",
    "\t\tCurrent_ratio:\t\tRatio of the above currents\n",
    "\t\tBattery_impedance:\tBattery impedance (Ohms) computed from raw data\n",
    "\t\tRectified_impedance:\tCalibrated and smoothed battery impedance (Ohms)\n",
    "\t\tRe:\t\t\tEstimated electrolyte resistance (Ohms)\n",
    "\t\tRct:\t\t\tEstimated charge transfer resistance (Ohms)\n",
    "##### link: https://ti.arc.nasa.gov/tech/dash/groups/pcoe/prognostic-data-repository/\n",
    "\n",
    "        DF - DataFrame\n",
    "        DT - DataType\n",
    "        MAE -Mean Absolute error \n",
    "        RMSE - Root Mean Square error"
   ]
  },
  {
   "cell_type": "markdown",
   "id": "e2e256b6",
   "metadata": {},
   "source": [
    "## Modules to be imported"
   ]
  },
  {
   "cell_type": "code",
   "execution_count": 1,
   "id": "0edeb862",
   "metadata": {},
   "outputs": [],
   "source": [
    "import scipy.io\n",
    "import pandas\n",
    "import datetime\n",
    "import numpy as np\n",
    "import seaborn as sns\n",
    "import matplotlib.pyplot as plt\n",
    "import pandas as pd\n",
    "from sklearn.model_selection import train_test_split\n",
    "from sklearn.linear_model import LinearRegression,Lasso,ElasticNet,Ridge\n",
    "from sklearn.preprocessing import MinMaxScaler,PolynomialFeatures\n",
    "from sklearn.svm import SVR\n",
    "from sklearn.metrics import r2_score,mean_absolute_error,mean_squared_error\n",
    "from math import sqrt\n",
    "\n",
    "sns.set()"
   ]
  },
  {
   "cell_type": "markdown",
   "id": "ac98343e",
   "metadata": {},
   "source": [
    "### Getting .mat file"
   ]
  },
  {
   "cell_type": "code",
   "execution_count": 2,
   "id": "57f9f61d",
   "metadata": {},
   "outputs": [],
   "source": [
    "mat=scipy.io.loadmat('BatteryAgingARC_45_46_47_48/B0046.mat')[\"B0046\"][0][0][0][0]"
   ]
  },
  {
   "cell_type": "markdown",
   "id": "dfe6e25a",
   "metadata": {},
   "source": [
    "   The function loadmat loads all variables stored in the MAT-file into a simple Python data structure, using only Python’s dict and list objects. Numeric and cell arrays are converted to row-ordered nested lists. Arrays are squeezed to eliminate arrays with only one element. The resulting data structure is composed of simple types that are compatible with the JSON format."
   ]
  },
  {
   "cell_type": "code",
   "execution_count": 3,
   "id": "c026d92f",
   "metadata": {},
   "outputs": [
    {
     "data": {
      "text/plain": [
       "(184,)"
      ]
     },
     "execution_count": 3,
     "metadata": {},
     "output_type": "execute_result"
    }
   ],
   "source": [
    "mat.shape #Getting Shape to DF"
   ]
  },
  {
   "cell_type": "code",
   "execution_count": 4,
   "id": "0a235b9f",
   "metadata": {},
   "outputs": [],
   "source": [
    "def build(mess):\n",
    "    discharge, charge, impedance = {}, {}, {}\n",
    "    # data are in nested list.\n",
    "    # To access the individual data in nested list using multiple indexing. \n",
    "    # And store into a single Dictionary set.\n",
    "\n",
    "    for i, element in enumerate(mess):\n",
    "\n",
    "        step = element[0][0]\n",
    "\n",
    "        if step == 'discharge':\n",
    "            discharge[str(i)] = {}\n",
    "            discharge[str(i)][\"amb_temp\"] = str(element[1][0][0])\n",
    "            year = int(element[2][0][0])\n",
    "            month = int(element[2][0][1])\n",
    "            day = int(element[2][0][2])\n",
    "            hour = int(element[2][0][3])\n",
    "            minute = int(element[2][0][4])\n",
    "            second = int(element[2][0][5])\n",
    "            millisecond = int((second % 1)*1000) # converting seconds to millisecond\n",
    "            date_time = datetime.datetime(year, month, day, hour, minute, second, millisecond)  # time values to data_time object   \n",
    "            discharge[str(i)][\"date_time\"] = date_time.strftime(\"%d %b %Y, %H:%M:%S\") #appending date_time object into string format\n",
    "            data = element[3]\n",
    "            discharge[str(i)][\"time_sec\"] = data[0][0][5][0].tolist()\n",
    "            discharge[str(i)][\"time_taken\"] = discharge[str(i)][\"time_sec\"][len(discharge[str(i)][\"time_sec\"])-1]-discharge[str(i)][\"time_sec\"][0]\n",
    "            #Time Taken :\n",
    "            #    time_taken = End_time - start_time\n",
    "            # Total Time Taken for Discharge\n",
    "            discharge[str(i)][\"temp_battery\"] = data[0][0][2][0].tolist()\n",
    "            discharge[str(i)][\"voltage_load\"] = data[0][0][4][0].tolist()\n",
    "            discharge[str(i)][\"voltage_battery\"] = data[0][0][0][0].tolist()\n",
    "            discharge[str(i)][\"current_battery\"] = data[0][0][1][0].tolist()\n",
    "            discharge[str(i)][\"current_load\"] = data[0][0][3][0].tolist()\n",
    "            discharge[str(i)][\"capacity\"] = data[0][0][6][0][0]\n",
    "            discharge[str(i)][\"deltaV\"] = abs(4.2-discharge[str(i)][\"voltage_battery\"][1])\n",
    "            # DeltaV :\n",
    "            #      deltaV = (Max_Threshold_voltage - Initial_voltage_value)\n",
    "            #      Voltage Slope or change in voltage \n",
    "            \n",
    "    \n",
    "\n",
    "        if step == 'charge':\n",
    "            charge[str(i)] = {}\n",
    "            charge[str(i)][\"amb_temp\"] = str(element[1][0][0])\n",
    "            year = int(element[2][0][0])\n",
    "            month = int(element[2][0][1])\n",
    "            day = int(element[2][0][2])\n",
    "            hour = int(element[2][0][3])\n",
    "            minute = int(element[2][0][4])\n",
    "            second = int(element[2][0][5])\n",
    "            millisecond = int((second % 1)*1000)# converting seconds to millisecond\n",
    "            date_time = datetime.datetime(year, month, day, hour, minute, second, millisecond)  # time values to data_time object\n",
    "            charge[str(i)][\"date_time\"] = date_time.strftime(\"%d %b %Y, %H:%M:%S\") #appending date_time object into string format\n",
    "            data = element[3]\n",
    "            charge[str(i)][\"voltage_battery\"] = data[0][0][0][0].tolist()\n",
    "            charge[str(i)][\"current_battery\"] = data[0][0][1][0].tolist()\n",
    "            charge[str(i)][\"temp_battery\"] = data[0][0][2][0].tolist()\n",
    "            charge[str(i)][\"current_load\"] = data[0][0][3][0].tolist()\n",
    "            charge[str(i)][\"voltage_load\"] = data[0][0][4][0].tolist()\n",
    "            charge[str(i)][\"time_sec\"] = (data[0][0][5][0]).tolist()\n",
    "            charge[str(i)][\"time_taken\"] = charge[str(i)][\"time_sec\"][len(charge[str(i)][\"time_sec\"])-1]-charge[str(i)][\"time_sec\"][0]\n",
    "            #Time Taken :\n",
    "            #    time_taken = End_time - start_time\n",
    "            # Total Time Taken for charge\n",
    "\n",
    "        if step == 'impedance':\n",
    "            impedance[str(i)] = {}\n",
    "            impedance[str(i)][\"amb_temp\"] = str(element[1][0][0])\n",
    "            year = int(element[2][0][0])\n",
    "            month = int(element[2][0][1])\n",
    "            day = int(element[2][0][2])\n",
    "            hour = int(element[2][0][3])\n",
    "            minute = int(element[2][0][4])\n",
    "            second = int(element[2][0][5])\n",
    "            millisecond = int((second % 1)*1000)# converting seconds to millisecond\n",
    "            date_time = datetime.datetime(year, month, day, hour, minute, second, millisecond)  # time values to data_time object    \n",
    "\n",
    "            impedance[str(i)][\"date_time\"] = date_time.strftime(\"%d %b %Y, %H:%M:%S\")#appending date_time object into string format\n",
    "\n",
    "            data = element[3]\n",
    "\n",
    "            impedance[str(i)][\"sense_current\"] = {}\n",
    "            impedance[str(i)][\"battery_current\"] = {}\n",
    "            impedance[str(i)][\"current_ratio\"] = {}\n",
    "            impedance[str(i)][\"battery_impedance\"] = {}\n",
    "            impedance[str(i)][\"rectified_impedance\"] = {}\n",
    "            # real value            imaginary value\n",
    "            # x            +         (j)      y\n",
    "\n",
    "            impedance[str(i)][\"sense_current\"][\"real\"] = np.real(data[0][0][0][0]).tolist() #real value\n",
    "            impedance[str(i)][\"sense_current\"][\"imag\"] = np.imag(data[0][0][0][0]).tolist() #imaginary value\n",
    "\n",
    "            impedance[str(i)][\"battery_current\"][\"real\"] = np.real(data[0][0][1][0]).tolist() #real value\n",
    "            impedance[str(i)][\"battery_current\"][\"imag\"] = np.imag(data[0][0][1][0]).tolist() #imaginary value\n",
    "\n",
    "            impedance[str(i)][\"current_ratio\"][\"real\"] = np.real(data[0][0][2][0]).tolist() # real value\n",
    "            impedance[str(i)][\"current_ratio\"][\"imag\"] = np.imag(data[0][0][2][0]).tolist() # imaginary value\n",
    "\n",
    "            impedance[str(i)][\"battery_impedance\"][\"real\"] = np.real(data[0][0][3]).tolist()#real value\n",
    "            impedance[str(i)][\"battery_impedance\"][\"imag\"] = np.imag(data[0][0][3]).tolist()#imaginary value\n",
    "\n",
    "            impedance[str(i)][\"rectified_impedance\"][\"real\"] = np.real(data[0][0][4]).tolist()#real value\n",
    "            impedance[str(i)][\"rectified_impedance\"][\"imag\"] = np.imag(data[0][0][4]).tolist()#imaginary value\n",
    "\n",
    "            impedance[str(i)][\"re\"] = float(data[0][0][5][0][0])\n",
    "            impedance[str(i)][\"rct\"] = float(data[0][0][6][0][0])\n",
    "            \n",
    "    return discharge, charge, impedance"
   ]
  },
  {
   "cell_type": "markdown",
   "id": "4b5f21c7",
   "metadata": {},
   "source": [
    "From Data description data structured consists of three types of operation - Charge,Discharge and Impedance with specific datas in each types.\n",
    "\n",
    "Build Function:\n",
    "    Separates each types with their specific data and return into three different dictionary values.\n"
   ]
  },
  {
   "cell_type": "code",
   "execution_count": 5,
   "id": "28df6f16",
   "metadata": {},
   "outputs": [],
   "source": [
    "discharge, charge, impedance=build(mat) #calling built function and getting dictionary sets"
   ]
  },
  {
   "cell_type": "code",
   "execution_count": 6,
   "id": "2a7c21ae",
   "metadata": {},
   "outputs": [],
   "source": [
    "discharge = pd.DataFrame(discharge).T\n",
    "charge = pd.DataFrame(charge).T\n",
    "impedance = pd.DataFrame(impedance).T"
   ]
  },
  {
   "cell_type": "markdown",
   "id": "2e55f7ae",
   "metadata": {},
   "source": [
    "convert dictionary sets into DF and done Transpose to change rows into columns and vice versa"
   ]
  },
  {
   "cell_type": "code",
   "execution_count": 7,
   "id": "9954b37c",
   "metadata": {},
   "outputs": [
    {
     "name": "stdout",
     "output_type": "stream",
     "text": [
      "\n"
     ]
    }
   ],
   "source": [
    "index=[i for i in range(1,73,1)] # adding cycle column and setting cycle column as index\n",
    "discharge['cycle']=index\n",
    "discharge.set_index(['cycle'])\n",
    "charge['cycle']=index\n",
    "charge.set_index(['cycle'])\n",
    "print()"
   ]
  },
  {
   "cell_type": "markdown",
   "id": "7ed0fdfd",
   "metadata": {},
   "source": [
    "### Exploding Charge DF"
   ]
  },
  {
   "cell_type": "code",
   "execution_count": 8,
   "id": "e3a889c1",
   "metadata": {},
   "outputs": [],
   "source": [
    "list_cols = {'voltage_load','temp_battery','time_sec','voltage_battery','current_load','current_battery'} #list of columns to explode\n",
    "other_cols = list(set(charge.columns) - set(list_cols))\n",
    "exploded = [charge[col].explode() for col in list_cols]\n",
    "df1 = pd.DataFrame(dict(zip(list_cols, exploded)))\n",
    "df1 = charge[other_cols].merge(df1, how=\"right\", left_index=True, right_index=True)"
   ]
  },
  {
   "cell_type": "code",
   "execution_count": 9,
   "id": "2aec73d3",
   "metadata": {},
   "outputs": [
    {
     "data": {
      "text/html": [
       "<div>\n",
       "<style scoped>\n",
       "    .dataframe tbody tr th:only-of-type {\n",
       "        vertical-align: middle;\n",
       "    }\n",
       "\n",
       "    .dataframe tbody tr th {\n",
       "        vertical-align: top;\n",
       "    }\n",
       "\n",
       "    .dataframe thead th {\n",
       "        text-align: right;\n",
       "    }\n",
       "</style>\n",
       "<table border=\"1\" class=\"dataframe\">\n",
       "  <thead>\n",
       "    <tr style=\"text-align: right;\">\n",
       "      <th></th>\n",
       "      <th>amb_temp</th>\n",
       "      <th>cycle</th>\n",
       "      <th>time_taken</th>\n",
       "      <th>voltage_battery</th>\n",
       "      <th>time_sec</th>\n",
       "      <th>current_load</th>\n",
       "      <th>temp_battery</th>\n",
       "      <th>voltage_load</th>\n",
       "      <th>current_battery</th>\n",
       "    </tr>\n",
       "  </thead>\n",
       "  <tbody>\n",
       "    <tr>\n",
       "      <th>2</th>\n",
       "      <td>4.0</td>\n",
       "      <td>1.0</td>\n",
       "      <td>10803.313</td>\n",
       "      <td>4.197302</td>\n",
       "      <td>10729.406</td>\n",
       "      <td>0.061</td>\n",
       "      <td>5.779463</td>\n",
       "      <td>4.241</td>\n",
       "      <td>0.061108</td>\n",
       "    </tr>\n",
       "    <tr>\n",
       "      <th>2</th>\n",
       "      <td>4.0</td>\n",
       "      <td>1.0</td>\n",
       "      <td>10803.313</td>\n",
       "      <td>4.199795</td>\n",
       "      <td>7097.531</td>\n",
       "      <td>0.160</td>\n",
       "      <td>5.940534</td>\n",
       "      <td>4.295</td>\n",
       "      <td>0.160727</td>\n",
       "    </tr>\n",
       "    <tr>\n",
       "      <th>2</th>\n",
       "      <td>4.0</td>\n",
       "      <td>1.0</td>\n",
       "      <td>10803.313</td>\n",
       "      <td>4.199912</td>\n",
       "      <td>7090.781</td>\n",
       "      <td>0.160</td>\n",
       "      <td>5.925144</td>\n",
       "      <td>4.295</td>\n",
       "      <td>0.159277</td>\n",
       "    </tr>\n",
       "    <tr>\n",
       "      <th>2</th>\n",
       "      <td>4.0</td>\n",
       "      <td>1.0</td>\n",
       "      <td>10803.313</td>\n",
       "      <td>4.199768</td>\n",
       "      <td>7084.047</td>\n",
       "      <td>0.160</td>\n",
       "      <td>5.908140</td>\n",
       "      <td>4.295</td>\n",
       "      <td>0.161819</td>\n",
       "    </tr>\n",
       "    <tr>\n",
       "      <th>2</th>\n",
       "      <td>4.0</td>\n",
       "      <td>1.0</td>\n",
       "      <td>10803.313</td>\n",
       "      <td>4.199946</td>\n",
       "      <td>7077.297</td>\n",
       "      <td>0.160</td>\n",
       "      <td>5.896631</td>\n",
       "      <td>4.295</td>\n",
       "      <td>0.160545</td>\n",
       "    </tr>\n",
       "    <tr>\n",
       "      <th>...</th>\n",
       "      <td>...</td>\n",
       "      <td>...</td>\n",
       "      <td>...</td>\n",
       "      <td>...</td>\n",
       "      <td>...</td>\n",
       "      <td>...</td>\n",
       "      <td>...</td>\n",
       "      <td>...</td>\n",
       "      <td>...</td>\n",
       "    </tr>\n",
       "    <tr>\n",
       "      <th>182</th>\n",
       "      <td>4.0</td>\n",
       "      <td>72.0</td>\n",
       "      <td>10808.891</td>\n",
       "      <td>4.198750</td>\n",
       "      <td>3567.266</td>\n",
       "      <td>0.404</td>\n",
       "      <td>6.509353</td>\n",
       "      <td>4.435</td>\n",
       "      <td>0.406212</td>\n",
       "    </tr>\n",
       "    <tr>\n",
       "      <th>182</th>\n",
       "      <td>4.0</td>\n",
       "      <td>72.0</td>\n",
       "      <td>10808.891</td>\n",
       "      <td>4.198768</td>\n",
       "      <td>3558.532</td>\n",
       "      <td>0.404</td>\n",
       "      <td>6.508994</td>\n",
       "      <td>4.435</td>\n",
       "      <td>0.408282</td>\n",
       "    </tr>\n",
       "    <tr>\n",
       "      <th>182</th>\n",
       "      <td>4.0</td>\n",
       "      <td>72.0</td>\n",
       "      <td>10808.891</td>\n",
       "      <td>4.198474</td>\n",
       "      <td>3549.844</td>\n",
       "      <td>0.404</td>\n",
       "      <td>6.501819</td>\n",
       "      <td>4.435</td>\n",
       "      <td>0.406488</td>\n",
       "    </tr>\n",
       "    <tr>\n",
       "      <th>182</th>\n",
       "      <td>4.0</td>\n",
       "      <td>72.0</td>\n",
       "      <td>10808.891</td>\n",
       "      <td>4.199582</td>\n",
       "      <td>3610.954</td>\n",
       "      <td>0.403</td>\n",
       "      <td>6.568802</td>\n",
       "      <td>4.435</td>\n",
       "      <td>0.406880</td>\n",
       "    </tr>\n",
       "    <tr>\n",
       "      <th>182</th>\n",
       "      <td>4.0</td>\n",
       "      <td>72.0</td>\n",
       "      <td>10808.891</td>\n",
       "      <td>4.196293</td>\n",
       "      <td>10808.891</td>\n",
       "      <td>0.077</td>\n",
       "      <td>6.159268</td>\n",
       "      <td>4.251</td>\n",
       "      <td>0.077244</td>\n",
       "    </tr>\n",
       "  </tbody>\n",
       "</table>\n",
       "<p>100965 rows × 9 columns</p>\n",
       "</div>"
      ],
      "text/plain": [
       "     amb_temp  cycle  time_taken  voltage_battery   time_sec  current_load  \\\n",
       "2         4.0    1.0   10803.313         4.197302  10729.406         0.061   \n",
       "2         4.0    1.0   10803.313         4.199795   7097.531         0.160   \n",
       "2         4.0    1.0   10803.313         4.199912   7090.781         0.160   \n",
       "2         4.0    1.0   10803.313         4.199768   7084.047         0.160   \n",
       "2         4.0    1.0   10803.313         4.199946   7077.297         0.160   \n",
       "..        ...    ...         ...              ...        ...           ...   \n",
       "182       4.0   72.0   10808.891         4.198750   3567.266         0.404   \n",
       "182       4.0   72.0   10808.891         4.198768   3558.532         0.404   \n",
       "182       4.0   72.0   10808.891         4.198474   3549.844         0.404   \n",
       "182       4.0   72.0   10808.891         4.199582   3610.954         0.403   \n",
       "182       4.0   72.0   10808.891         4.196293  10808.891         0.077   \n",
       "\n",
       "     temp_battery  voltage_load  current_battery  \n",
       "2        5.779463         4.241         0.061108  \n",
       "2        5.940534         4.295         0.160727  \n",
       "2        5.925144         4.295         0.159277  \n",
       "2        5.908140         4.295         0.161819  \n",
       "2        5.896631         4.295         0.160545  \n",
       "..            ...           ...              ...  \n",
       "182      6.509353         4.435         0.406212  \n",
       "182      6.508994         4.435         0.408282  \n",
       "182      6.501819         4.435         0.406488  \n",
       "182      6.568802         4.435         0.406880  \n",
       "182      6.159268         4.251         0.077244  \n",
       "\n",
       "[100965 rows x 9 columns]"
      ]
     },
     "execution_count": 9,
     "metadata": {},
     "output_type": "execute_result"
    }
   ],
   "source": [
    "df1.drop(['date_time'],axis=1,inplace=True) # Dropping date_time because it is string object which can't be converted into float object\n",
    "df1=df1.astype(float) #Changing all DT into float\n",
    "df1.sort_values('cycle') # sorting DF with respect to cycle"
   ]
  },
  {
   "cell_type": "markdown",
   "id": "6d4082d1",
   "metadata": {},
   "source": [
    "Getting the DF for Voltage in battery higher than 4.2 Threshold"
   ]
  },
  {
   "cell_type": "code",
   "execution_count": 10,
   "id": "35df620b",
   "metadata": {},
   "outputs": [],
   "source": [
    "df1=df1[df1['voltage_battery']>4.2].groupby('cycle')"
   ]
  },
  {
   "cell_type": "markdown",
   "id": "c59dc75e",
   "metadata": {},
   "source": [
    "Time taken for battery to reach maximum voltage Threshold while charging."
   ]
  },
  {
   "cell_type": "code",
   "execution_count": 11,
   "id": "b57c97de",
   "metadata": {},
   "outputs": [],
   "source": [
    "Charging_max_Threshold_voltage_time=df1.min()['time_sec']\n",
    "Charging_max_Threshold_voltage_temp=df1.min()['temp_battery']"
   ]
  },
  {
   "cell_type": "markdown",
   "id": "f5cdedf7",
   "metadata": {},
   "source": [
    "### Exploding Discharge DF"
   ]
  },
  {
   "cell_type": "code",
   "execution_count": 12,
   "id": "eb935ef5",
   "metadata": {},
   "outputs": [],
   "source": [
    "list_cols = {'voltage_load','temp_battery','time_sec','voltage_battery','current_load','current_battery'}\n",
    "other_cols = list(set(discharge.columns) - set(list_cols))\n",
    "exploded = [discharge[col].explode() for col in list_cols]\n",
    "df2 = pd.DataFrame(dict(zip(list_cols, exploded)))\n",
    "df2 = discharge[other_cols].merge(df2, how=\"right\", left_index=True, right_index=True)\n",
    "df2.drop(['date_time'],axis=1,inplace=True)# Dropping date_time because it is string object which can't be converted into float object\n",
    "df2=df2.astype(float)#Changing DT into float"
   ]
  },
  {
   "cell_type": "markdown",
   "id": "5cfd3961",
   "metadata": {},
   "source": [
    "Getting the DF for minimum thershold Voltage(2.5) in battery."
   ]
  },
  {
   "cell_type": "code",
   "execution_count": 13,
   "id": "1210713c",
   "metadata": {},
   "outputs": [
    {
     "data": {
      "text/html": [
       "<div>\n",
       "<style scoped>\n",
       "    .dataframe tbody tr th:only-of-type {\n",
       "        vertical-align: middle;\n",
       "    }\n",
       "\n",
       "    .dataframe tbody tr th {\n",
       "        vertical-align: top;\n",
       "    }\n",
       "\n",
       "    .dataframe thead th {\n",
       "        text-align: right;\n",
       "    }\n",
       "</style>\n",
       "<table border=\"1\" class=\"dataframe\">\n",
       "  <thead>\n",
       "    <tr style=\"text-align: right;\">\n",
       "      <th></th>\n",
       "      <th>amb_temp</th>\n",
       "      <th>cycle</th>\n",
       "      <th>time_taken</th>\n",
       "      <th>capacity</th>\n",
       "      <th>deltaV</th>\n",
       "      <th>voltage_battery</th>\n",
       "      <th>time_sec</th>\n",
       "      <th>current_load</th>\n",
       "      <th>temp_battery</th>\n",
       "      <th>voltage_load</th>\n",
       "      <th>current_battery</th>\n",
       "    </tr>\n",
       "  </thead>\n",
       "  <tbody>\n",
       "    <tr>\n",
       "      <th>0</th>\n",
       "      <td>4.0</td>\n",
       "      <td>1.0</td>\n",
       "      <td>6436.141</td>\n",
       "      <td>1.728239</td>\n",
       "      <td>0.037819</td>\n",
       "      <td>2.179300</td>\n",
       "      <td>6436.141</td>\n",
       "      <td>0.9990</td>\n",
       "      <td>13.105428</td>\n",
       "      <td>1.723</td>\n",
       "      <td>-1.003137</td>\n",
       "    </tr>\n",
       "    <tr>\n",
       "      <th>4</th>\n",
       "      <td>4.0</td>\n",
       "      <td>2.0</td>\n",
       "      <td>5650.265</td>\n",
       "      <td>1.516149</td>\n",
       "      <td>0.037661</td>\n",
       "      <td>2.174474</td>\n",
       "      <td>5650.265</td>\n",
       "      <td>0.9988</td>\n",
       "      <td>12.938221</td>\n",
       "      <td>1.724</td>\n",
       "      <td>-1.004201</td>\n",
       "    </tr>\n",
       "    <tr>\n",
       "      <th>6</th>\n",
       "      <td>4.0</td>\n",
       "      <td>3.0</td>\n",
       "      <td>5590.907</td>\n",
       "      <td>1.503121</td>\n",
       "      <td>0.019450</td>\n",
       "      <td>2.195667</td>\n",
       "      <td>5590.907</td>\n",
       "      <td>0.9986</td>\n",
       "      <td>12.400467</td>\n",
       "      <td>1.748</td>\n",
       "      <td>-1.006270</td>\n",
       "    </tr>\n",
       "    <tr>\n",
       "      <th>8</th>\n",
       "      <td>4.0</td>\n",
       "      <td>4.0</td>\n",
       "      <td>5543.610</td>\n",
       "      <td>1.485866</td>\n",
       "      <td>0.018388</td>\n",
       "      <td>2.179628</td>\n",
       "      <td>5543.610</td>\n",
       "      <td>0.9986</td>\n",
       "      <td>12.683911</td>\n",
       "      <td>1.731</td>\n",
       "      <td>-1.004997</td>\n",
       "    </tr>\n",
       "    <tr>\n",
       "      <th>10</th>\n",
       "      <td>4.0</td>\n",
       "      <td>5.0</td>\n",
       "      <td>5499.046</td>\n",
       "      <td>1.469456</td>\n",
       "      <td>0.019765</td>\n",
       "      <td>2.195258</td>\n",
       "      <td>5499.046</td>\n",
       "      <td>0.9988</td>\n",
       "      <td>13.065400</td>\n",
       "      <td>1.745</td>\n",
       "      <td>-1.006559</td>\n",
       "    </tr>\n",
       "    <tr>\n",
       "      <th>...</th>\n",
       "      <td>...</td>\n",
       "      <td>...</td>\n",
       "      <td>...</td>\n",
       "      <td>...</td>\n",
       "      <td>...</td>\n",
       "      <td>...</td>\n",
       "      <td>...</td>\n",
       "      <td>...</td>\n",
       "      <td>...</td>\n",
       "      <td>...</td>\n",
       "      <td>...</td>\n",
       "    </tr>\n",
       "    <tr>\n",
       "      <th>172</th>\n",
       "      <td>4.0</td>\n",
       "      <td>68.0</td>\n",
       "      <td>4663.907</td>\n",
       "      <td>1.205045</td>\n",
       "      <td>0.056289</td>\n",
       "      <td>2.183932</td>\n",
       "      <td>4663.907</td>\n",
       "      <td>0.9988</td>\n",
       "      <td>13.853422</td>\n",
       "      <td>1.721</td>\n",
       "      <td>-1.004951</td>\n",
       "    </tr>\n",
       "    <tr>\n",
       "      <th>174</th>\n",
       "      <td>4.0</td>\n",
       "      <td>69.0</td>\n",
       "      <td>4581.328</td>\n",
       "      <td>1.191199</td>\n",
       "      <td>0.026811</td>\n",
       "      <td>2.196285</td>\n",
       "      <td>4581.328</td>\n",
       "      <td>0.9988</td>\n",
       "      <td>14.172939</td>\n",
       "      <td>1.736</td>\n",
       "      <td>-1.004888</td>\n",
       "    </tr>\n",
       "    <tr>\n",
       "      <th>176</th>\n",
       "      <td>4.0</td>\n",
       "      <td>70.0</td>\n",
       "      <td>4553.031</td>\n",
       "      <td>1.174638</td>\n",
       "      <td>0.026733</td>\n",
       "      <td>2.152654</td>\n",
       "      <td>4553.031</td>\n",
       "      <td>0.9988</td>\n",
       "      <td>14.314751</td>\n",
       "      <td>1.694</td>\n",
       "      <td>-1.004308</td>\n",
       "    </tr>\n",
       "    <tr>\n",
       "      <th>178</th>\n",
       "      <td>4.0</td>\n",
       "      <td>71.0</td>\n",
       "      <td>4486.500</td>\n",
       "      <td>1.155543</td>\n",
       "      <td>0.026697</td>\n",
       "      <td>2.196331</td>\n",
       "      <td>4486.500</td>\n",
       "      <td>0.9988</td>\n",
       "      <td>14.868149</td>\n",
       "      <td>1.737</td>\n",
       "      <td>-1.005997</td>\n",
       "    </tr>\n",
       "    <tr>\n",
       "      <th>180</th>\n",
       "      <td>4.0</td>\n",
       "      <td>72.0</td>\n",
       "      <td>4450.625</td>\n",
       "      <td>1.153804</td>\n",
       "      <td>0.026308</td>\n",
       "      <td>2.189501</td>\n",
       "      <td>4450.625</td>\n",
       "      <td>0.9988</td>\n",
       "      <td>14.051631</td>\n",
       "      <td>1.731</td>\n",
       "      <td>-1.004693</td>\n",
       "    </tr>\n",
       "  </tbody>\n",
       "</table>\n",
       "<p>69 rows × 11 columns</p>\n",
       "</div>"
      ],
      "text/plain": [
       "     amb_temp  cycle  time_taken  capacity    deltaV  voltage_battery  \\\n",
       "0         4.0    1.0    6436.141  1.728239  0.037819         2.179300   \n",
       "4         4.0    2.0    5650.265  1.516149  0.037661         2.174474   \n",
       "6         4.0    3.0    5590.907  1.503121  0.019450         2.195667   \n",
       "8         4.0    4.0    5543.610  1.485866  0.018388         2.179628   \n",
       "10        4.0    5.0    5499.046  1.469456  0.019765         2.195258   \n",
       "..        ...    ...         ...       ...       ...              ...   \n",
       "172       4.0   68.0    4663.907  1.205045  0.056289         2.183932   \n",
       "174       4.0   69.0    4581.328  1.191199  0.026811         2.196285   \n",
       "176       4.0   70.0    4553.031  1.174638  0.026733         2.152654   \n",
       "178       4.0   71.0    4486.500  1.155543  0.026697         2.196331   \n",
       "180       4.0   72.0    4450.625  1.153804  0.026308         2.189501   \n",
       "\n",
       "     time_sec  current_load  temp_battery  voltage_load  current_battery  \n",
       "0    6436.141        0.9990     13.105428         1.723        -1.003137  \n",
       "4    5650.265        0.9988     12.938221         1.724        -1.004201  \n",
       "6    5590.907        0.9986     12.400467         1.748        -1.006270  \n",
       "8    5543.610        0.9986     12.683911         1.731        -1.004997  \n",
       "10   5499.046        0.9988     13.065400         1.745        -1.006559  \n",
       "..        ...           ...           ...           ...              ...  \n",
       "172  4663.907        0.9988     13.853422         1.721        -1.004951  \n",
       "174  4581.328        0.9988     14.172939         1.736        -1.004888  \n",
       "176  4553.031        0.9988     14.314751         1.694        -1.004308  \n",
       "178  4486.500        0.9988     14.868149         1.737        -1.005997  \n",
       "180  4450.625        0.9988     14.051631         1.731        -1.004693  \n",
       "\n",
       "[69 rows x 11 columns]"
      ]
     },
     "execution_count": 13,
     "metadata": {},
     "output_type": "execute_result"
    }
   ],
   "source": [
    "df2=df2[df2['voltage_battery']<2.2]\n",
    "df2=df2.sort_values('cycle')\n",
    "df2 #sorting with respect to cycle"
   ]
  },
  {
   "cell_type": "code",
   "execution_count": 14,
   "id": "5201a93d",
   "metadata": {},
   "outputs": [],
   "source": [
    "Discharge_min_Threshold_voltage_time = df2['time_sec']\n",
    "Discharge_min_Threshold_voltage_temp = df2['temp_battery']"
   ]
  },
  {
   "cell_type": "markdown",
   "id": "f98ee112",
   "metadata": {},
   "source": [
    "### Dataset Selection"
   ]
  },
  {
   "cell_type": "markdown",
   "id": "99305cd0",
   "metadata": {},
   "source": [
    "    Varaible/Features:\n",
    "    \n",
    "        cycle                                -> Cycle count\n",
    "        max_temp_char                        -> Maximum Temperature while charging\n",
    "        max_temp_dis                         -> Maximum Temperature while discharging\n",
    "        cap                                  -> Capacity of battery\n",
    "        time_discharge                       -> Time taken to discharge\n",
    "        time_charge                          -> Time taken to charge\n",
    "        dis_vol                              -> Discharge Voltage\n",
    "        dis_cur                              -> Discharge Current\n",
    "        Discharge_min_Threshold_voltage_time -> Time taken to reach minimum threshold voltage while discharge\n",
    "        Charging_max_Threshold_voltage_time  -> Time taken to reach maximum threshold voltage while charge\n",
    "        Discharge_min_Threshold_voltage_temp -> Temperature at which minimum threshold voltage reach while discharge\n",
    "        Charging_max_Threshold_voltage_temp  -> Temperature at which maximum threshold voltage reach while charge\n",
    "        SOH                                  -> SOH = (capacity/nominal capacity)\n",
    "        RUL                                  -> RUL = n-i+1\n",
    "                                    n -> number of cycle\n",
    "                                    i -> i(th) cycle "
   ]
  },
  {
   "cell_type": "code",
   "execution_count": 15,
   "id": "9a81fc72",
   "metadata": {},
   "outputs": [],
   "source": [
    "cycle,max_temp_char,max_temp_dis,cap,time_discharge,time_charge,dis_vol,dis_cur=[],[],[],[],[],[],[],[]\n",
    "for i in range(72):\n",
    "    cycle.append(discharge['cycle'][i])\n",
    "    max_temp_char.append(max(charge['temp_battery'][i]))\n",
    "    max_temp_dis.append(max(discharge['temp_battery'][i]))\n",
    "    cap.append(discharge['capacity'][i])\n",
    "    time_discharge.append(discharge['time_taken'][i])\n",
    "    time_charge.append(charge['time_taken'][i])\n",
    "    dis_vol.append(2.5)\n",
    "    dis_cur.append(1)"
   ]
  },
  {
   "cell_type": "code",
   "execution_count": 16,
   "id": "f4475e0c",
   "metadata": {},
   "outputs": [],
   "source": [
    "dic={\"cycle\":cycle, 'max_distemp':max_temp_dis, 'max_chtemp':max_temp_char,  'capacity':cap,'dis_time':time_discharge,'chr_time':time_charge,'Discharge_voltage':dis_vol,'Discharge_current':dis_cur}"
   ]
  },
  {
   "cell_type": "markdown",
   "id": "581b29e2",
   "metadata": {},
   "source": [
    "#### Dictionary into DF"
   ]
  },
  {
   "cell_type": "code",
   "execution_count": 17,
   "id": "2ce28896",
   "metadata": {},
   "outputs": [],
   "source": [
    "soh_df = pd.DataFrame(dic) "
   ]
  },
  {
   "cell_type": "code",
   "execution_count": 18,
   "id": "c55eab12",
   "metadata": {},
   "outputs": [],
   "source": [
    "soh_df=soh_df[soh_df['capacity']!=0] # filtering data with capacity value other than 0"
   ]
  },
  {
   "cell_type": "markdown",
   "id": "bf7b43c5",
   "metadata": {},
   "source": [
    "Setting index"
   ]
  },
  {
   "cell_type": "code",
   "execution_count": 19,
   "id": "fe7d90cb",
   "metadata": {},
   "outputs": [
    {
     "data": {
      "text/html": [
       "<div>\n",
       "<style scoped>\n",
       "    .dataframe tbody tr th:only-of-type {\n",
       "        vertical-align: middle;\n",
       "    }\n",
       "\n",
       "    .dataframe tbody tr th {\n",
       "        vertical-align: top;\n",
       "    }\n",
       "\n",
       "    .dataframe thead th {\n",
       "        text-align: right;\n",
       "    }\n",
       "</style>\n",
       "<table border=\"1\" class=\"dataframe\">\n",
       "  <thead>\n",
       "    <tr style=\"text-align: right;\">\n",
       "      <th></th>\n",
       "      <th>cycle</th>\n",
       "      <th>max_distemp</th>\n",
       "      <th>max_chtemp</th>\n",
       "      <th>capacity</th>\n",
       "      <th>dis_time</th>\n",
       "      <th>chr_time</th>\n",
       "      <th>Discharge_voltage</th>\n",
       "      <th>Discharge_current</th>\n",
       "    </tr>\n",
       "  </thead>\n",
       "  <tbody>\n",
       "    <tr>\n",
       "      <th>1</th>\n",
       "      <td>1</td>\n",
       "      <td>13.880081</td>\n",
       "      <td>9.325138</td>\n",
       "      <td>1.728239</td>\n",
       "      <td>6436.141</td>\n",
       "      <td>10803.313</td>\n",
       "      <td>2.5</td>\n",
       "      <td>1</td>\n",
       "    </tr>\n",
       "    <tr>\n",
       "      <th>2</th>\n",
       "      <td>2</td>\n",
       "      <td>12.941526</td>\n",
       "      <td>12.346120</td>\n",
       "      <td>1.516149</td>\n",
       "      <td>5650.265</td>\n",
       "      <td>10802.078</td>\n",
       "      <td>2.5</td>\n",
       "      <td>1</td>\n",
       "    </tr>\n",
       "    <tr>\n",
       "      <th>3</th>\n",
       "      <td>3</td>\n",
       "      <td>13.359691</td>\n",
       "      <td>11.598067</td>\n",
       "      <td>1.503121</td>\n",
       "      <td>5590.907</td>\n",
       "      <td>10807.688</td>\n",
       "      <td>2.5</td>\n",
       "      <td>1</td>\n",
       "    </tr>\n",
       "    <tr>\n",
       "      <th>4</th>\n",
       "      <td>4</td>\n",
       "      <td>12.683911</td>\n",
       "      <td>12.092569</td>\n",
       "      <td>1.485866</td>\n",
       "      <td>5543.610</td>\n",
       "      <td>10805.687</td>\n",
       "      <td>2.5</td>\n",
       "      <td>1</td>\n",
       "    </tr>\n",
       "    <tr>\n",
       "      <th>5</th>\n",
       "      <td>5</td>\n",
       "      <td>13.065400</td>\n",
       "      <td>12.490739</td>\n",
       "      <td>1.469456</td>\n",
       "      <td>5499.046</td>\n",
       "      <td>10804.078</td>\n",
       "      <td>2.5</td>\n",
       "      <td>1</td>\n",
       "    </tr>\n",
       "    <tr>\n",
       "      <th>...</th>\n",
       "      <td>...</td>\n",
       "      <td>...</td>\n",
       "      <td>...</td>\n",
       "      <td>...</td>\n",
       "      <td>...</td>\n",
       "      <td>...</td>\n",
       "      <td>...</td>\n",
       "      <td>...</td>\n",
       "    </tr>\n",
       "    <tr>\n",
       "      <th>65</th>\n",
       "      <td>68</td>\n",
       "      <td>14.454392</td>\n",
       "      <td>13.574847</td>\n",
       "      <td>1.205045</td>\n",
       "      <td>4663.907</td>\n",
       "      <td>10807.969</td>\n",
       "      <td>2.5</td>\n",
       "      <td>1</td>\n",
       "    </tr>\n",
       "    <tr>\n",
       "      <th>66</th>\n",
       "      <td>69</td>\n",
       "      <td>14.172939</td>\n",
       "      <td>13.649784</td>\n",
       "      <td>1.191199</td>\n",
       "      <td>4581.328</td>\n",
       "      <td>10809.594</td>\n",
       "      <td>2.5</td>\n",
       "      <td>1</td>\n",
       "    </tr>\n",
       "    <tr>\n",
       "      <th>67</th>\n",
       "      <td>70</td>\n",
       "      <td>14.797844</td>\n",
       "      <td>13.486367</td>\n",
       "      <td>1.174638</td>\n",
       "      <td>4553.031</td>\n",
       "      <td>10804.109</td>\n",
       "      <td>2.5</td>\n",
       "      <td>1</td>\n",
       "    </tr>\n",
       "    <tr>\n",
       "      <th>68</th>\n",
       "      <td>71</td>\n",
       "      <td>14.868149</td>\n",
       "      <td>14.316772</td>\n",
       "      <td>1.155543</td>\n",
       "      <td>4486.500</td>\n",
       "      <td>10810.344</td>\n",
       "      <td>2.5</td>\n",
       "      <td>1</td>\n",
       "    </tr>\n",
       "    <tr>\n",
       "      <th>69</th>\n",
       "      <td>72</td>\n",
       "      <td>14.051631</td>\n",
       "      <td>8.961522</td>\n",
       "      <td>1.153804</td>\n",
       "      <td>4450.625</td>\n",
       "      <td>10808.891</td>\n",
       "      <td>2.5</td>\n",
       "      <td>1</td>\n",
       "    </tr>\n",
       "  </tbody>\n",
       "</table>\n",
       "<p>69 rows × 8 columns</p>\n",
       "</div>"
      ],
      "text/plain": [
       "    cycle  max_distemp  max_chtemp  capacity  dis_time   chr_time  \\\n",
       "1       1    13.880081    9.325138  1.728239  6436.141  10803.313   \n",
       "2       2    12.941526   12.346120  1.516149  5650.265  10802.078   \n",
       "3       3    13.359691   11.598067  1.503121  5590.907  10807.688   \n",
       "4       4    12.683911   12.092569  1.485866  5543.610  10805.687   \n",
       "5       5    13.065400   12.490739  1.469456  5499.046  10804.078   \n",
       "..    ...          ...         ...       ...       ...        ...   \n",
       "65     68    14.454392   13.574847  1.205045  4663.907  10807.969   \n",
       "66     69    14.172939   13.649784  1.191199  4581.328  10809.594   \n",
       "67     70    14.797844   13.486367  1.174638  4553.031  10804.109   \n",
       "68     71    14.868149   14.316772  1.155543  4486.500  10810.344   \n",
       "69     72    14.051631    8.961522  1.153804  4450.625  10808.891   \n",
       "\n",
       "    Discharge_voltage  Discharge_current  \n",
       "1                 2.5                  1  \n",
       "2                 2.5                  1  \n",
       "3                 2.5                  1  \n",
       "4                 2.5                  1  \n",
       "5                 2.5                  1  \n",
       "..                ...                ...  \n",
       "65                2.5                  1  \n",
       "66                2.5                  1  \n",
       "67                2.5                  1  \n",
       "68                2.5                  1  \n",
       "69                2.5                  1  \n",
       "\n",
       "[69 rows x 8 columns]"
      ]
     },
     "execution_count": 19,
     "metadata": {},
     "output_type": "execute_result"
    }
   ],
   "source": [
    "index=np.arange(1,70)\n",
    "soh_df.set_index(index)"
   ]
  },
  {
   "cell_type": "markdown",
   "id": "b6b99fe3",
   "metadata": {},
   "source": [
    "   Adding features from both discharging and charging exploding data "
   ]
  },
  {
   "cell_type": "code",
   "execution_count": 20,
   "id": "b314a419",
   "metadata": {},
   "outputs": [],
   "source": [
    "soh_df['Discharge_min_Threshold_voltage_time'] = Discharge_min_Threshold_voltage_time.tolist()\n",
    "soh_df['Charging_max_Threshold_voltage_time'] = Charging_max_Threshold_voltage_time[:69].tolist()\n",
    "soh_df['Discharge_min_Threshold_voltage_temp'] = Discharge_min_Threshold_voltage_temp.tolist()\n",
    "soh_df['Charging_max_Threshold_voltage_temp'] = Charging_max_Threshold_voltage_temp[:69].tolist()\n",
    "soh_df['SOH']=soh_df['capacity']/soh_df['capacity'].max()\n",
    "soh_df['RUL']=72-soh_df['cycle']+1"
   ]
  },
  {
   "cell_type": "markdown",
   "id": "b4e71314",
   "metadata": {},
   "source": [
    "columns for dataset"
   ]
  },
  {
   "cell_type": "code",
   "execution_count": 21,
   "id": "d0f2ce27",
   "metadata": {},
   "outputs": [
    {
     "data": {
      "text/plain": [
       "Index(['cycle', 'max_distemp', 'max_chtemp', 'capacity', 'dis_time',\n",
       "       'chr_time', 'Discharge_voltage', 'Discharge_current',\n",
       "       'Discharge_min_Threshold_voltage_time',\n",
       "       'Charging_max_Threshold_voltage_time',\n",
       "       'Discharge_min_Threshold_voltage_temp',\n",
       "       'Charging_max_Threshold_voltage_temp', 'SOH', 'RUL'],\n",
       "      dtype='object')"
      ]
     },
     "execution_count": 21,
     "metadata": {},
     "output_type": "execute_result"
    }
   ],
   "source": [
    "soh_df.columns"
   ]
  },
  {
   "cell_type": "markdown",
   "id": "6fe43af5",
   "metadata": {},
   "source": [
    "Saving dataset into csv file"
   ]
  },
  {
   "cell_type": "code",
   "execution_count": 22,
   "id": "b745156c",
   "metadata": {},
   "outputs": [
    {
     "data": {
      "text/html": [
       "<div>\n",
       "<style scoped>\n",
       "    .dataframe tbody tr th:only-of-type {\n",
       "        vertical-align: middle;\n",
       "    }\n",
       "\n",
       "    .dataframe tbody tr th {\n",
       "        vertical-align: top;\n",
       "    }\n",
       "\n",
       "    .dataframe thead th {\n",
       "        text-align: right;\n",
       "    }\n",
       "</style>\n",
       "<table border=\"1\" class=\"dataframe\">\n",
       "  <thead>\n",
       "    <tr style=\"text-align: right;\">\n",
       "      <th></th>\n",
       "      <th>cycle</th>\n",
       "      <th>max_distemp</th>\n",
       "      <th>max_chtemp</th>\n",
       "      <th>capacity</th>\n",
       "      <th>dis_time</th>\n",
       "      <th>chr_time</th>\n",
       "      <th>Discharge_voltage</th>\n",
       "      <th>Discharge_current</th>\n",
       "      <th>Discharge_min_Threshold_voltage_time</th>\n",
       "      <th>Charging_max_Threshold_voltage_time</th>\n",
       "      <th>Discharge_min_Threshold_voltage_temp</th>\n",
       "      <th>Charging_max_Threshold_voltage_temp</th>\n",
       "      <th>SOH</th>\n",
       "      <th>RUL</th>\n",
       "    </tr>\n",
       "  </thead>\n",
       "  <tbody>\n",
       "    <tr>\n",
       "      <th>0</th>\n",
       "      <td>1</td>\n",
       "      <td>13.880081</td>\n",
       "      <td>9.325138</td>\n",
       "      <td>1.728239</td>\n",
       "      <td>6436.141</td>\n",
       "      <td>10803.313</td>\n",
       "      <td>2.5</td>\n",
       "      <td>1</td>\n",
       "      <td>6436.141</td>\n",
       "      <td>1427.625</td>\n",
       "      <td>13.105428</td>\n",
       "      <td>4.862409</td>\n",
       "      <td>1.000000</td>\n",
       "      <td>72</td>\n",
       "    </tr>\n",
       "    <tr>\n",
       "      <th>1</th>\n",
       "      <td>2</td>\n",
       "      <td>12.941526</td>\n",
       "      <td>12.346120</td>\n",
       "      <td>1.516149</td>\n",
       "      <td>5650.265</td>\n",
       "      <td>10802.078</td>\n",
       "      <td>2.5</td>\n",
       "      <td>1</td>\n",
       "      <td>5650.265</td>\n",
       "      <td>1351.484</td>\n",
       "      <td>12.938221</td>\n",
       "      <td>4.626419</td>\n",
       "      <td>0.877279</td>\n",
       "      <td>71</td>\n",
       "    </tr>\n",
       "    <tr>\n",
       "      <th>2</th>\n",
       "      <td>3</td>\n",
       "      <td>13.359691</td>\n",
       "      <td>11.598067</td>\n",
       "      <td>1.503121</td>\n",
       "      <td>5590.907</td>\n",
       "      <td>10807.688</td>\n",
       "      <td>2.5</td>\n",
       "      <td>1</td>\n",
       "      <td>5590.907</td>\n",
       "      <td>1304.875</td>\n",
       "      <td>12.400467</td>\n",
       "      <td>4.739180</td>\n",
       "      <td>0.869741</td>\n",
       "      <td>70</td>\n",
       "    </tr>\n",
       "    <tr>\n",
       "      <th>3</th>\n",
       "      <td>4</td>\n",
       "      <td>12.683911</td>\n",
       "      <td>12.092569</td>\n",
       "      <td>1.485866</td>\n",
       "      <td>5543.610</td>\n",
       "      <td>10805.687</td>\n",
       "      <td>2.5</td>\n",
       "      <td>1</td>\n",
       "      <td>5543.610</td>\n",
       "      <td>1220.953</td>\n",
       "      <td>12.683911</td>\n",
       "      <td>4.633242</td>\n",
       "      <td>0.859757</td>\n",
       "      <td>69</td>\n",
       "    </tr>\n",
       "    <tr>\n",
       "      <th>4</th>\n",
       "      <td>5</td>\n",
       "      <td>13.065400</td>\n",
       "      <td>12.490739</td>\n",
       "      <td>1.469456</td>\n",
       "      <td>5499.046</td>\n",
       "      <td>10804.078</td>\n",
       "      <td>2.5</td>\n",
       "      <td>1</td>\n",
       "      <td>5499.046</td>\n",
       "      <td>1202.719</td>\n",
       "      <td>13.065400</td>\n",
       "      <td>4.274888</td>\n",
       "      <td>0.850262</td>\n",
       "      <td>68</td>\n",
       "    </tr>\n",
       "    <tr>\n",
       "      <th>...</th>\n",
       "      <td>...</td>\n",
       "      <td>...</td>\n",
       "      <td>...</td>\n",
       "      <td>...</td>\n",
       "      <td>...</td>\n",
       "      <td>...</td>\n",
       "      <td>...</td>\n",
       "      <td>...</td>\n",
       "      <td>...</td>\n",
       "      <td>...</td>\n",
       "      <td>...</td>\n",
       "      <td>...</td>\n",
       "      <td>...</td>\n",
       "      <td>...</td>\n",
       "    </tr>\n",
       "    <tr>\n",
       "      <th>67</th>\n",
       "      <td>68</td>\n",
       "      <td>14.454392</td>\n",
       "      <td>13.574847</td>\n",
       "      <td>1.205045</td>\n",
       "      <td>4663.907</td>\n",
       "      <td>10807.969</td>\n",
       "      <td>2.5</td>\n",
       "      <td>1</td>\n",
       "      <td>4663.907</td>\n",
       "      <td>548.765</td>\n",
       "      <td>13.853422</td>\n",
       "      <td>5.203391</td>\n",
       "      <td>0.697268</td>\n",
       "      <td>5</td>\n",
       "    </tr>\n",
       "    <tr>\n",
       "      <th>68</th>\n",
       "      <td>69</td>\n",
       "      <td>14.172939</td>\n",
       "      <td>13.649784</td>\n",
       "      <td>1.191199</td>\n",
       "      <td>4581.328</td>\n",
       "      <td>10809.594</td>\n",
       "      <td>2.5</td>\n",
       "      <td>1</td>\n",
       "      <td>4581.328</td>\n",
       "      <td>95.172</td>\n",
       "      <td>14.172939</td>\n",
       "      <td>5.110313</td>\n",
       "      <td>0.689256</td>\n",
       "      <td>4</td>\n",
       "    </tr>\n",
       "    <tr>\n",
       "      <th>69</th>\n",
       "      <td>70</td>\n",
       "      <td>14.797844</td>\n",
       "      <td>13.486367</td>\n",
       "      <td>1.174638</td>\n",
       "      <td>4553.031</td>\n",
       "      <td>10804.109</td>\n",
       "      <td>2.5</td>\n",
       "      <td>1</td>\n",
       "      <td>4553.031</td>\n",
       "      <td>478.156</td>\n",
       "      <td>14.314751</td>\n",
       "      <td>5.201257</td>\n",
       "      <td>0.679673</td>\n",
       "      <td>3</td>\n",
       "    </tr>\n",
       "    <tr>\n",
       "      <th>70</th>\n",
       "      <td>71</td>\n",
       "      <td>14.868149</td>\n",
       "      <td>14.316772</td>\n",
       "      <td>1.155543</td>\n",
       "      <td>4486.500</td>\n",
       "      <td>10810.344</td>\n",
       "      <td>2.5</td>\n",
       "      <td>1</td>\n",
       "      <td>4486.500</td>\n",
       "      <td>677.735</td>\n",
       "      <td>14.868149</td>\n",
       "      <td>5.131967</td>\n",
       "      <td>0.668625</td>\n",
       "      <td>2</td>\n",
       "    </tr>\n",
       "    <tr>\n",
       "      <th>71</th>\n",
       "      <td>72</td>\n",
       "      <td>14.051631</td>\n",
       "      <td>8.961522</td>\n",
       "      <td>1.153804</td>\n",
       "      <td>4450.625</td>\n",
       "      <td>10808.891</td>\n",
       "      <td>2.5</td>\n",
       "      <td>1</td>\n",
       "      <td>4450.625</td>\n",
       "      <td>639.282</td>\n",
       "      <td>14.051631</td>\n",
       "      <td>5.174810</td>\n",
       "      <td>0.667618</td>\n",
       "      <td>1</td>\n",
       "    </tr>\n",
       "  </tbody>\n",
       "</table>\n",
       "<p>69 rows × 14 columns</p>\n",
       "</div>"
      ],
      "text/plain": [
       "    cycle  max_distemp  max_chtemp  capacity  dis_time   chr_time  \\\n",
       "0       1    13.880081    9.325138  1.728239  6436.141  10803.313   \n",
       "1       2    12.941526   12.346120  1.516149  5650.265  10802.078   \n",
       "2       3    13.359691   11.598067  1.503121  5590.907  10807.688   \n",
       "3       4    12.683911   12.092569  1.485866  5543.610  10805.687   \n",
       "4       5    13.065400   12.490739  1.469456  5499.046  10804.078   \n",
       "..    ...          ...         ...       ...       ...        ...   \n",
       "67     68    14.454392   13.574847  1.205045  4663.907  10807.969   \n",
       "68     69    14.172939   13.649784  1.191199  4581.328  10809.594   \n",
       "69     70    14.797844   13.486367  1.174638  4553.031  10804.109   \n",
       "70     71    14.868149   14.316772  1.155543  4486.500  10810.344   \n",
       "71     72    14.051631    8.961522  1.153804  4450.625  10808.891   \n",
       "\n",
       "    Discharge_voltage  Discharge_current  \\\n",
       "0                 2.5                  1   \n",
       "1                 2.5                  1   \n",
       "2                 2.5                  1   \n",
       "3                 2.5                  1   \n",
       "4                 2.5                  1   \n",
       "..                ...                ...   \n",
       "67                2.5                  1   \n",
       "68                2.5                  1   \n",
       "69                2.5                  1   \n",
       "70                2.5                  1   \n",
       "71                2.5                  1   \n",
       "\n",
       "    Discharge_min_Threshold_voltage_time  Charging_max_Threshold_voltage_time  \\\n",
       "0                               6436.141                             1427.625   \n",
       "1                               5650.265                             1351.484   \n",
       "2                               5590.907                             1304.875   \n",
       "3                               5543.610                             1220.953   \n",
       "4                               5499.046                             1202.719   \n",
       "..                                   ...                                  ...   \n",
       "67                              4663.907                              548.765   \n",
       "68                              4581.328                               95.172   \n",
       "69                              4553.031                              478.156   \n",
       "70                              4486.500                              677.735   \n",
       "71                              4450.625                              639.282   \n",
       "\n",
       "    Discharge_min_Threshold_voltage_temp  Charging_max_Threshold_voltage_temp  \\\n",
       "0                              13.105428                             4.862409   \n",
       "1                              12.938221                             4.626419   \n",
       "2                              12.400467                             4.739180   \n",
       "3                              12.683911                             4.633242   \n",
       "4                              13.065400                             4.274888   \n",
       "..                                   ...                                  ...   \n",
       "67                             13.853422                             5.203391   \n",
       "68                             14.172939                             5.110313   \n",
       "69                             14.314751                             5.201257   \n",
       "70                             14.868149                             5.131967   \n",
       "71                             14.051631                             5.174810   \n",
       "\n",
       "         SOH  RUL  \n",
       "0   1.000000   72  \n",
       "1   0.877279   71  \n",
       "2   0.869741   70  \n",
       "3   0.859757   69  \n",
       "4   0.850262   68  \n",
       "..       ...  ...  \n",
       "67  0.697268    5  \n",
       "68  0.689256    4  \n",
       "69  0.679673    3  \n",
       "70  0.668625    2  \n",
       "71  0.667618    1  \n",
       "\n",
       "[69 rows x 14 columns]"
      ]
     },
     "execution_count": 22,
     "metadata": {},
     "output_type": "execute_result"
    }
   ],
   "source": [
    "soh_df"
   ]
  },
  {
   "cell_type": "code",
   "execution_count": 23,
   "id": "462e377e",
   "metadata": {},
   "outputs": [],
   "source": [
    "soh_df.to_csv('Dataset.csv')"
   ]
  },
  {
   "cell_type": "markdown",
   "id": "29633094",
   "metadata": {},
   "source": [
    "# State of Health Prediction"
   ]
  },
  {
   "cell_type": "markdown",
   "id": "28ecb714",
   "metadata": {},
   "source": [
    "### Feature selection for SOH"
   ]
  },
  {
   "cell_type": "markdown",
   "id": "fbd3b43b",
   "metadata": {},
   "source": [
    "Features normally considered for SOH\\\n",
    "    * Voltage\\\n",
    "    * Time\\\n",
    "    * Current\\\n",
    "    * Temperature\n",
    "    \n",
    "current-constant (doesn't affect much)\\\n",
    "Temperature (Doesn't affect much because of Ambient/room temperature 4 deg celsius)\n",
    "\n",
    "    Dropping columns:\n",
    "    \n",
    "        cycle -> which is directly correlated with SOH\n",
    "        capacity -> which is as same as SOH\n",
    "        max_distemp, max_chtemp, Charging_max_Threshold_voltage_temp, Discharge_min_Threshold_voltage_temp-> Temperature factor is not affecting SOH mostly because of Ambient/room temperature 4 deg celsius it can't cause battery to heat much.\n",
    "        if Ambient is high, temperature factor will affect the SOH prediction\n",
    "        dis_time, chr_time -> we drop these features because charge, discharge voltage values doesn't give exact explaination of charging and discharging than Charging_max_Threshold_voltage and Discharge_min_Threshold_voltage.\n",
    "        \n",
    "        \n",
    "    Features selected:\n",
    "    \n",
    "        Discharge_min_Threshold_voltage_time\n",
    "        Charging_max_Threshold_voltage_time\n",
    "        Charging_max_Threshold_voltage_time(Sec) and Discharge_min_Threshold_voltage_time(Sec) both feature gives exact time taken for voltage to attain 4.2 max threshold while charging and gives exact time taken for voltage to attain 2.5 voltage drop threshold while discharging respectively which gives more detailed estimation for capacity.\n",
    "\n",
    "\n",
    "Discharge_min_Threshold_voltage_time,Charging_max_Threshold_voltage_time are Time values with respect to voltage \n",
    "In these we considered both Voltage and Time for charging and discharging."
   ]
  },
  {
   "cell_type": "markdown",
   "id": "e3b96c99",
   "metadata": {},
   "source": [
    "### Model selection for SOH"
   ]
  },
  {
   "cell_type": "markdown",
   "id": "0ded9e88",
   "metadata": {},
   "source": [
    "        Model                r2_score           Mean Absolute error(MAE)       Root mean Square error(RMSE)\n",
    "        \n",
    "        \n",
    "     \n",
    "     LinearRegression    0.99756192078892       0.0026904860747766165          0.0035585476728445882\n",
    "     \n",
    "     SVR                 0.9906417766713533     0.005747891069886788           0.006971810678756418\n",
    "     \n",
    "     Ridge               0.9693625454576208     0.010266501242172012           0.012614650502126604\n",
    "     \n",
    "     LinearRegression    0.9980478953255226     0.00239270731079238            0.0031842006989559165\n",
    "     (Polynomial Features\n",
    "     deg -2)\n",
    "     \n",
    "From above table Linear regression with polynomial features is good model because of low MAE and RMSE"
   ]
  },
  {
   "cell_type": "markdown",
   "id": "b721cb55",
   "metadata": {},
   "source": [
    "### Linear Regression - Polynomial Features"
   ]
  },
  {
   "cell_type": "markdown",
   "id": "8d5960ee",
   "metadata": {},
   "source": [
    "Feature scaling"
   ]
  },
  {
   "cell_type": "code",
   "execution_count": 24,
   "id": "92b64182",
   "metadata": {},
   "outputs": [
    {
     "name": "stdout",
     "output_type": "stream",
     "text": [
      "Index(['Discharge_min_Threshold_voltage_time', 'Charging_max_Threshold_voltage_time'], dtype='object')\n"
     ]
    }
   ],
   "source": [
    "x=soh_df.drop(['capacity','dis_time','chr_time','cycle','max_chtemp','max_distemp','SOH','Discharge_voltage','Discharge_current',\"RUL\",'Discharge_min_Threshold_voltage_temp','Charging_max_Threshold_voltage_temp'],axis=1)\n",
    "print(x.columns)\n",
    "y=soh_df['SOH']\n",
    "minmax=MinMaxScaler()\n",
    "x=minmax.fit_transform(x)"
   ]
  },
  {
   "cell_type": "markdown",
   "id": "45a93a93",
   "metadata": {},
   "source": [
    "Train Test Data split"
   ]
  },
  {
   "cell_type": "code",
   "execution_count": 25,
   "id": "c94f02ff",
   "metadata": {},
   "outputs": [],
   "source": [
    "x_train,x_test,y_train,y_test=train_test_split(x,y,test_size=0.15,random_state=32)"
   ]
  },
  {
   "cell_type": "markdown",
   "id": "88eb4369",
   "metadata": {},
   "source": [
    "Getting polynomial Features for X"
   ]
  },
  {
   "cell_type": "code",
   "execution_count": 26,
   "id": "b6905ba0",
   "metadata": {},
   "outputs": [],
   "source": [
    "poly_reg = PolynomialFeatures()\n",
    "x_poly = poly_reg.fit_transform(x_train)"
   ]
  },
  {
   "cell_type": "markdown",
   "id": "e339e9e0",
   "metadata": {},
   "source": [
    "LinearRegression Model object"
   ]
  },
  {
   "cell_type": "code",
   "execution_count": 27,
   "id": "71b57366",
   "metadata": {},
   "outputs": [],
   "source": [
    "lin_reg = LinearRegression()"
   ]
  },
  {
   "cell_type": "markdown",
   "id": "08778b2e",
   "metadata": {},
   "source": [
    "Fitting model"
   ]
  },
  {
   "cell_type": "code",
   "execution_count": 28,
   "id": "04246103",
   "metadata": {},
   "outputs": [
    {
     "data": {
      "text/plain": [
       "LinearRegression()"
      ]
     },
     "execution_count": 28,
     "metadata": {},
     "output_type": "execute_result"
    }
   ],
   "source": [
    "lin_reg.fit(x_poly, y_train)"
   ]
  },
  {
   "cell_type": "markdown",
   "id": "631819f7",
   "metadata": {},
   "source": [
    "Predicting SOH for train,test and Total value"
   ]
  },
  {
   "cell_type": "code",
   "execution_count": 29,
   "id": "ab9a0e38",
   "metadata": {},
   "outputs": [],
   "source": [
    "y_pred = lin_reg.predict(poly_reg.transform(x))\n",
    "y_pred_train = lin_reg.predict(poly_reg.transform(x_train))\n",
    "y_pred_test = lin_reg.predict(poly_reg.transform(x_test))"
   ]
  },
  {
   "cell_type": "markdown",
   "id": "f131eab1",
   "metadata": {},
   "source": [
    "Calculating r2_score,MAE and RMSE"
   ]
  },
  {
   "cell_type": "code",
   "execution_count": 30,
   "id": "1ff78b96",
   "metadata": {},
   "outputs": [
    {
     "name": "stdout",
     "output_type": "stream",
     "text": [
      "r2 score train 0.9984260175142214\n",
      "r2 score test 0.9948297998660734\n",
      "r2 score  0.9980478953255226\n",
      "Root mean square error 0.0031842006989559165\n",
      "mean absolute error 0.00239270731079238\n"
     ]
    }
   ],
   "source": [
    "print('r2 score train',r2_score(y_train,y_pred_train))\n",
    "print('r2 score test',r2_score(y_test,y_pred_test))\n",
    "print('r2 score ',r2_score(y,y_pred))\n",
    "print('Root mean square error',sqrt(mean_squared_error(y,y_pred)))\n",
    "print('mean absolute error',mean_absolute_error(y,y_pred))"
   ]
  },
  {
   "cell_type": "code",
   "execution_count": 31,
   "id": "4c3a0cb3",
   "metadata": {},
   "outputs": [
    {
     "data": {
      "text/plain": [
       "<matplotlib.legend.Legend at 0x7fd50f55ee50>"
      ]
     },
     "execution_count": 31,
     "metadata": {},
     "output_type": "execute_result"
    },
    {
     "data": {
      "image/png": "[encoded data removed]",
      "text/plain": [
       "<Figure size 432x288 with 1 Axes>"
      ]
     },
     "metadata": {},
     "output_type": "display_data"
    }
   ],
   "source": [
    "plt.plot(list(y))\n",
    "plt.plot(list(y_pred))\n",
    "plt.legend(labels=['Orginal','Predicted'])"
   ]
  },
  {
   "cell_type": "markdown",
   "id": "ce39163a",
   "metadata": {},
   "source": [
    "### Hyperparameter tuning"
   ]
  },
  {
   "cell_type": "code",
   "execution_count": 32,
   "id": "75dfc220",
   "metadata": {},
   "outputs": [
    {
     "data": {
      "text/plain": [
       "{'1': Pipeline(steps=[('t', PolynomialFeatures(degree=1)), ('m', LinearRegression())]),\n",
       " '2': Pipeline(steps=[('t', PolynomialFeatures()), ('m', LinearRegression())]),\n",
       " '3': Pipeline(steps=[('t', PolynomialFeatures(degree=3)), ('m', LinearRegression())]),\n",
       " '4': Pipeline(steps=[('t', PolynomialFeatures(degree=4)), ('m', LinearRegression())]),\n",
       " '5': Pipeline(steps=[('t', PolynomialFeatures(degree=5)), ('m', LinearRegression())]),\n",
       " '6': Pipeline(steps=[('t', PolynomialFeatures(degree=6)), ('m', LinearRegression())]),\n",
       " '7': Pipeline(steps=[('t', PolynomialFeatures(degree=7)), ('m', LinearRegression())]),\n",
       " '8': Pipeline(steps=[('t', PolynomialFeatures(degree=8)), ('m', LinearRegression())]),\n",
       " '9': Pipeline(steps=[('t', PolynomialFeatures(degree=9)), ('m', LinearRegression())]),\n",
       " '10': Pipeline(steps=[('t', PolynomialFeatures(degree=10)),\n",
       "                 ('m', LinearRegression())])}"
      ]
     },
     "execution_count": 32,
     "metadata": {},
     "output_type": "execute_result"
    }
   ],
   "source": [
    "from sklearn.model_selection import cross_val_score\n",
    "from sklearn.model_selection import RepeatedKFold,GridSearchCV\n",
    "from sklearn.pipeline import Pipeline\n",
    "models = dict()\n",
    "for d in range(1,11):\n",
    "# define the pipeline\n",
    "    trans = PolynomialFeatures(degree=d)\n",
    "    model = LinearRegression()\n",
    "    models[str(d)] = Pipeline(steps=[('t', trans), ('m', model)])\n",
    "models"
   ]
  },
  {
   "cell_type": "markdown",
   "id": "24a95cd9",
   "metadata": {},
   "source": [
    "Setting pipeline for degrees in polynomial feature"
   ]
  },
  {
   "cell_type": "code",
   "execution_count": 33,
   "id": "b45d80e9",
   "metadata": {},
   "outputs": [
    {
     "name": "stdout",
     "output_type": "stream",
     "text": [
      "Degree: 1 , Score : 0.9943689019169326 , n_splits: 30\n",
      "Degree: 2 , Score : 0.9953258969094947 , n_splits: 30\n",
      "Degree: 3 , Score : 0.9689451239892827 , n_splits: 30\n",
      "Degree: 4 , Score : -0.5189410485577558 , n_splits: 30\n",
      "Degree: 5 , Score : -75.82368110028075 , n_splits: 30\n",
      "Degree: 6 , Score : -17913.28879019703 , n_splits: 30\n",
      "Degree: 7 , Score : -5179207.274815919 , n_splits: 30\n",
      "Degree: 8 , Score : -117186083.77385327 , n_splits: 30\n",
      "Degree: 9 , Score : -66225012726.226776 , n_splits: 30\n",
      "Degree: 10 , Score : -2325636674684694.5 , n_splits: 30\n"
     ]
    }
   ],
   "source": [
    "def evaluate_model(model, x, y):   \n",
    "    cv = RepeatedKFold(n_splits=10, n_repeats=3, random_state=1)\n",
    "    parameters = {}\n",
    "    search = GridSearchCV(model, parameters, n_jobs=-1, cv=cv)\n",
    "    result = search.fit(x, y)\n",
    "    return result\n",
    "\n",
    "\n",
    "# evaluate the models and store results\n",
    "results, names = list(), list()\n",
    "for name, model in models.items():\n",
    "    scores = evaluate_model(model, x, y)\n",
    "    print(\"Degree:\",name,', Score :',scores.best_score_,', n_splits:',scores.n_splits_)"
   ]
  },
  {
   "cell_type": "markdown",
   "id": "f8bc096e",
   "metadata": {},
   "source": [
    "From above shell we can say degree - 2 is best "
   ]
  },
  {
   "cell_type": "markdown",
   "id": "1884736c",
   "metadata": {},
   "source": [
    "# Remaining Cycle Prediction"
   ]
  },
  {
   "cell_type": "markdown",
   "id": "d74db069",
   "metadata": {},
   "source": [
    "### Feature selection for RUC\n"
   ]
  },
  {
   "cell_type": "markdown",
   "id": "36e15ac9",
   "metadata": {},
   "source": [
    "Features normally considered for RUC\\\n",
    "    * Voltage\\\n",
    "    * Time\\\n",
    "    * Current\\\n",
    "    * Temperature\\\n",
    "    * Capacity\n",
    "    \n",
    "current-constant (doesn't affect much)\\\n",
    "Temperature (Doesn't affect much because of Ambient/room temperature 4 deg celsius)\n",
    "\n",
    "    Dropping columns:\n",
    "    \n",
    "        cycle -> which is directly correlated with RUL\n",
    "        max_distemp, max_chtemp, Charging_max_Threshold_voltage_temp, Discharge_min_Threshold_voltage_temp-> Temperature factor is not affecting SOH mostly because of Ambient/room temperature 4 deg celsius it can't cause battery to heat much.\n",
    "        if Ambient is high, temperature factor will affect the SOH prediction\n",
    "        dis_time, chr_time -> we drop these features because charge, discharge voltage values doesn't give exact explaination of charging and discharging than Charging_max_Threshold_voltage and Discharge_min_Threshold_voltage.\n",
    "        \n",
    "        \n",
    "        \n",
    "    Features selected:\n",
    "        \n",
    "        capacity is required but we are using SOH because which is as same as capacity.\n",
    "        so SOH Feature is more than enough to predict the model.\n",
    "        Discharge_min_Threshold_voltage_time\n",
    "        Charging_max_Threshold_voltage_time\n",
    "        Charging_max_Threshold_voltage_time(Sec) and Discharge_min_Threshold_voltage_time(Sec) both feature gives exact time taken for voltage to attain 4.2 max threshold while charging and gives exact time taken for voltage to attain 2.5 voltage drop threshold while discharging respectively which gives more detailed estimation for capacity.\n",
    "\n",
    "\n",
    "Discharge_min_Threshold_voltage_time,Charging_max_Threshold_voltage_time are Time values with respect to voltage \n",
    "In these we considered both Voltage and Time for charging and discharging."
   ]
  },
  {
   "cell_type": "markdown",
   "id": "8e16cd30",
   "metadata": {},
   "source": [
    "### Model selection for SOH"
   ]
  },
  {
   "cell_type": "markdown",
   "id": "32c3e31d",
   "metadata": {},
   "source": [
    "        Model                r2_score           Mean Absolute error(MAE)       Root mean Square error(RMSE)\n",
    "        \n",
    "        \n",
    "     \n",
    "     LinearRegression    0.8509796174988952     6.196367128165051              8.000302077948735\n",
    "     \n",
    "     SVR                 0.17236536161325533    16.197060498562497             18.853972874667864\n",
    "     \n",
    "     SVR(linear)         0.7474845507784984     6.854289933884003              10.414238649540584\n",
    "     \n",
    "     SVR(poly)           0.591608072321542      10.276147454218194             13.244089996751326\n",
    "     \n",
    "     SVR(rbf)            0.898527711786203      4.220919979033104              6.601722660229034\n",
    "     \n",
    "     Ridge               0.7860445780525692     7.009061952134607              9.586171556006965\n",
    "     \n",
    "     Lasso               0.7860070259108836     7.0093710681045405             9.587012772077065\n",
    "     \n",
    "     ElasticNet          0.785996657821251      7.009566070393674              9.587245017561282\n",
    "     \n",
    "     LinearRegression    0.8988387955474056     4.442995733473573              6.591595436489932\n",
    "     (Polynomial Features\n",
    "     deg -2)\n",
    "     \n",
    "     \n",
    "    \n",
    "    1)From above table SVR(rbf) and polynomial regression had higher r2_score have more over same r2_score.\n",
    "    2)While Predicting Dynamic data SVR gives better prediction value then polynomial regression. "
   ]
  },
  {
   "cell_type": "markdown",
   "id": "94d7eb25",
   "metadata": {},
   "source": [
    "### SVR"
   ]
  },
  {
   "cell_type": "markdown",
   "id": "41872fc5",
   "metadata": {},
   "source": [
    "Feature scaling"
   ]
  },
  {
   "cell_type": "code",
   "execution_count": 34,
   "id": "fca7217e",
   "metadata": {},
   "outputs": [
    {
     "name": "stdout",
     "output_type": "stream",
     "text": [
      "Index(['Discharge_min_Threshold_voltage_time',\n",
      "       'Charging_max_Threshold_voltage_time', 'SOH'],\n",
      "      dtype='object')\n"
     ]
    }
   ],
   "source": [
    "x=soh_df.drop(['capacity','dis_time','chr_time','cycle','max_chtemp','max_distemp','Discharge_voltage','Discharge_current',\"RUL\",'Discharge_min_Threshold_voltage_temp','Charging_max_Threshold_voltage_temp'],axis=1)\n",
    "print(x.columns)\n",
    "y=soh_df['RUL']\n",
    "minmax=MinMaxScaler()\n",
    "x=minmax.fit_transform(x)"
   ]
  },
  {
   "cell_type": "markdown",
   "id": "b1444094",
   "metadata": {},
   "source": [
    "Train Test Data split"
   ]
  },
  {
   "cell_type": "code",
   "execution_count": 35,
   "id": "f67536d7",
   "metadata": {},
   "outputs": [],
   "source": [
    "x_train,x_test,y_train,y_test=train_test_split(x,y,test_size=0.15,random_state=32)"
   ]
  },
  {
   "cell_type": "markdown",
   "id": "1977db87",
   "metadata": {},
   "source": [
    "Hyper tuning"
   ]
  },
  {
   "cell_type": "code",
   "execution_count": 36,
   "id": "587c3add",
   "metadata": {},
   "outputs": [
    {
     "name": "stdout",
     "output_type": "stream",
     "text": [
      "Tuning hyper-parameters\n"
     ]
    },
    {
     "data": {
      "text/plain": [
       "{'C': 10000, 'gamma': 0.5, 'kernel': 'rbf'}"
      ]
     },
     "execution_count": 36,
     "metadata": {},
     "output_type": "execute_result"
    }
   ],
   "source": [
    "cv = RepeatedKFold(n_splits=10, n_repeats=3, random_state=1)\n",
    "# Parameters for tuning\n",
    "parameters = [{'kernel': ['rbf','linear','poly'], 'gamma': [1e-4, 1e-3, 0.01, 0.1, 0.2, 0.5, 0.6, 0.9],'C': [1, 10, 100, 1000, 10000]}]\n",
    "print(\"Tuning hyper-parameters\")\n",
    "svr = GridSearchCV(SVR(epsilon = 0.01), parameters, cv = cv)\n",
    "svr.fit(x, y)\n",
    "svr.best_params_"
   ]
  },
  {
   "cell_type": "markdown",
   "id": "0477e9d8",
   "metadata": {},
   "source": [
    "LinearRegression Model object"
   ]
  },
  {
   "cell_type": "code",
   "execution_count": 37,
   "id": "429a8068",
   "metadata": {},
   "outputs": [],
   "source": [
    "svr = SVR(kernel='rbf',epsilon=0.01,C=10000,gamma=0.5)"
   ]
  },
  {
   "cell_type": "markdown",
   "id": "f0aa89a0",
   "metadata": {},
   "source": [
    "Fitting model"
   ]
  },
  {
   "cell_type": "code",
   "execution_count": 38,
   "id": "d8b15406",
   "metadata": {},
   "outputs": [
    {
     "data": {
      "text/plain": [
       "SVR(C=10000, epsilon=0.01, gamma=0.5)"
      ]
     },
     "execution_count": 38,
     "metadata": {},
     "output_type": "execute_result"
    }
   ],
   "source": [
    "svr.fit(x_train, y_train)"
   ]
  },
  {
   "cell_type": "markdown",
   "id": "8a432c53",
   "metadata": {},
   "source": [
    "Predicting SOH for train,test and Total value"
   ]
  },
  {
   "cell_type": "code",
   "execution_count": 40,
   "id": "2f24c9d5",
   "metadata": {},
   "outputs": [],
   "source": [
    "y_pred = svr.predict(x)\n",
    "y_pred_train = svr.predict(x_train)\n",
    "y_pred_test = svr.predict(x_test)"
   ]
  },
  {
   "cell_type": "markdown",
   "id": "13e78175",
   "metadata": {},
   "source": [
    "Calculating r2_score,MAE and RMSE"
   ]
  },
  {
   "cell_type": "code",
   "execution_count": 41,
   "id": "c307fb4c",
   "metadata": {},
   "outputs": [
    {
     "name": "stdout",
     "output_type": "stream",
     "text": [
      "r2 score train 0.9018625861440464\n",
      "r2 score test 0.8732925136151853\n",
      "r2 score  0.898527711786203\n",
      "Root mean square error 6.601722660229034\n",
      "mean absolute error 4.220919979033104\n"
     ]
    }
   ],
   "source": [
    "print('r2 score train',r2_score(y_train,y_pred_train))\n",
    "print('r2 score test',r2_score(y_test,y_pred_test))\n",
    "print('r2 score ',r2_score(y,y_pred))\n",
    "print('Root mean square error',sqrt(mean_squared_error(y,y_pred)))\n",
    "print('mean absolute error',mean_absolute_error(y,y_pred))"
   ]
  },
  {
   "cell_type": "code",
   "execution_count": 42,
   "id": "d5377ee0",
   "metadata": {},
   "outputs": [
    {
     "data": {
      "text/plain": [
       "<matplotlib.legend.Legend at 0x7fd50f3ec130>"
      ]
     },
     "execution_count": 42,
     "metadata": {},
     "output_type": "execute_result"
    },
    {
     "data": {
      "image/png": "[encoded data removed]",
      "text/plain": [
       "<Figure size 432x288 with 1 Axes>"
      ]
     },
     "metadata": {},
     "output_type": "display_data"
    }
   ],
   "source": [
    "plt.plot(list(y))\n",
    "plt.plot(list(y_pred))\n",
    "plt.legend(labels=['Orginal','Predicted'])"
   ]
  },
  {
   "cell_type": "markdown",
   "id": "17923edd",
   "metadata": {},
   "source": [
    "# END "
   ]
  }
 ],
 "metadata": {
  "kernelspec": {
   "display_name": "Python 3.8.5 64-bit ('base': conda)",
   "language": "python",
   "name": "python385jvsc74a57bd04f755958ddc989968f49faee9f7e36c13e97c018b1c05b043dbc3872e1a76972"
  },
  "language_info": {
   "codemirror_mode": {
    "name": "ipython",
    "version": 3
   },
   "file_extension": ".py",
   "mimetype": "text/x-python",
   "name": "python",
   "nbconvert_exporter": "python",
   "pygments_lexer": "ipython3",
   "version": "3.8.5"
  }
 },
 "nbformat": 4,
 "nbformat_minor": 5
}
