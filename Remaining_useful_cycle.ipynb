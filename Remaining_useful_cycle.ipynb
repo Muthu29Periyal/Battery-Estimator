{
 "cells": [
  {
   "cell_type": "markdown",
   "id": "4f078c9d",
   "metadata": {},
   "source": [
    "# Remaining useful cycle"
   ]
  },
  {
   "cell_type": "code",
   "execution_count": 7,
   "id": "4357b932",
   "metadata": {},
   "outputs": [
    {
     "name": "stdout",
     "output_type": "stream",
     "text": [
      "r2 score  0.8985277117861975\n",
      "Root mean square error 6.601722660229213\n",
      "mean absolute error 4.220919979033551\n"
     ]
    }
   ],
   "source": [
    "import pickle\n",
    "import pandas as pd\n",
    "import numpy as np\n",
    "from math import sqrt\n",
    "from sklearn.svm import SVR\n",
    "from sklearn.preprocessing import PolynomialFeatures,MinMaxScaler\n",
    "from sklearn.model_selection import train_test_split\n",
    "from sklearn.metrics import r2_score,mean_absolute_error,mean_squared_error\n",
    "\n",
    "\n",
    "def svr_model(x,y,C,gamma,epsilon,kernal):\n",
    "    #scaling\n",
    "    minmax=MinMaxScaler()\n",
    "    x=minmax.fit_transform(x)\n",
    "    #Train_test_split\n",
    "    x_train,x_test,y_train,y_test=train_test_split(x,y,test_size=0.15,random_state=32)\n",
    "    svr = SVR(kernel=kernal,C=C,gamma=gamma,epsilon=epsilon)\n",
    "    svr.fit(x_train, y_train)\n",
    "    y_pred = svr.predict(x)\n",
    "    print('r2 score ',r2_score(y,y_pred))\n",
    "    print('Root mean square error',sqrt(mean_squared_error(y,y_pred)))\n",
    "    print('mean absolute error',mean_absolute_error(y,y_pred))\n",
    "    return svr,minmax\n",
    "\n",
    "\n",
    "df = pd.read_csv('Dataset.csv')\n",
    "x=df[['Discharge_min_Threshold_voltage_time', 'Charging_max_Threshold_voltage_time','SOH']]\n",
    "y=df['RUL']\n",
    "C=10000\n",
    "epsilon=0.01\n",
    "gamma=0.5\n",
    "kernal='rbf'\n",
    "model,scalar=svr_model(x,y,C,gamma,epsilon,kernal)"
   ]
  },
  {
   "cell_type": "markdown",
   "id": "a0ddb34c",
   "metadata": {},
   "source": [
    "## Saving model"
   ]
  },
  {
   "cell_type": "code",
   "execution_count": 8,
   "id": "602361c2",
   "metadata": {},
   "outputs": [],
   "source": [
    "pickle.dump(model, open(\"model/remaining_useful_cycle.pkl\", 'wb'))\n",
    "pickle.dump(scalar, open(\"model/remaining_useful_cycle_poly_reg.pkl\", 'wb'))"
   ]
  }
 ],
 "metadata": {
  "kernelspec": {
   "display_name": "Python 3",
   "language": "python",
   "name": "python3"
  },
  "language_info": {
   "codemirror_mode": {
    "name": "ipython",
    "version": 3
   },
   "file_extension": ".py",
   "mimetype": "text/x-python",
   "name": "python",
   "nbconvert_exporter": "python",
   "pygments_lexer": "ipython3",
   "version": "3.8.5"
  }
 },
 "nbformat": 4,
 "nbformat_minor": 5
}
